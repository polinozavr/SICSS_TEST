{
 "cells": [
  {
   "cell_type": "markdown",
   "metadata": {
    "toc": true
   },
   "source": [
    "<h1>Содержание<span class=\"tocSkip\"></span></h1>\n",
    "<div class=\"toc\"><ul class=\"toc-item\"><li><span><a href=\"#Подготовка\" data-toc-modified-id=\"Подготовка-1\"><span class=\"toc-item-num\">1&nbsp;&nbsp;</span>Подготовка</a></span></li><li><span><a href=\"#Анализ\" data-toc-modified-id=\"Анализ-2\"><span class=\"toc-item-num\">2&nbsp;&nbsp;</span>Анализ</a></span></li><li><span><a href=\"#Обучение\" data-toc-modified-id=\"Обучение-3\"><span class=\"toc-item-num\">3&nbsp;&nbsp;</span>Обучение</a></span></li><li><span><a href=\"#Тестирование\" data-toc-modified-id=\"Тестирование-4\"><span class=\"toc-item-num\">4&nbsp;&nbsp;</span>Тестирование</a></span></li><li><span><a href=\"#Вывод\" data-toc-modified-id=\"Вывод-5\"><span class=\"toc-item-num\">5&nbsp;&nbsp;</span>Вывод</a></span></li></ul></div>"
   ]
  },
  {
   "cell_type": "markdown",
   "metadata": {},
   "source": [
    "#  Прогнозирование заказов такси"
   ]
  },
  {
   "cell_type": "markdown",
   "metadata": {},
   "source": [
    "Компания «Чётенькое такси» собрала исторические данные о заказах такси в аэропортах. Чтобы привлекать больше водителей в период пиковой нагрузки, нужно спрогнозировать количество заказов такси на следующий час. Постройте модель для такого предсказания.\n",
    "\n",
    "Значение метрики *RMSE* на тестовой выборке должно быть не больше 48.\n",
    "\n",
    "Вам нужно:\n",
    "\n",
    "1. Загрузить данные и выполнить их ресемплирование по одному часу.\n",
    "2. Проанализировать данные.\n",
    "3. Обучить разные модели с различными гиперпараметрами. Сделать тестовую выборку размером 10% от исходных данных.\n",
    "4. Проверить данные на тестовой выборке и сделать выводы.\n",
    "\n",
    "\n",
    "Данные лежат в файле `taxi.csv`. Количество заказов находится в столбце `num_orders` (от англ. *number of orders*, «число заказов»)."
   ]
  },
  {
   "cell_type": "code",
   "execution_count": 1,
   "metadata": {},
   "outputs": [],
   "source": [
    "import numpy as np\n",
    "import pandas as pd\n",
    "from statsmodels.tsa.seasonal import seasonal_decompose\n",
    "import matplotlib.pyplot as plt\n",
    "from matplotlib.pyplot import figure\n",
    "from sklearn.model_selection import train_test_split, GridSearchCV, RandomizedSearchCV\n",
    "from sklearn.metrics import mean_absolute_error\n",
    "from sklearn.linear_model import LinearRegression\n",
    "from sklearn.metrics import mean_squared_error\n",
    "import lightgbm as lgb\n",
    "from sklearn.model_selection import TimeSeriesSplit"
   ]
  },
  {
   "cell_type": "markdown",
   "metadata": {},
   "source": [
    "## Подготовка"
   ]
  },
  {
   "cell_type": "code",
   "execution_count": 2,
   "metadata": {},
   "outputs": [],
   "source": [
    "#Признак даты делаем индексом, чтобы преобразовать датафрейм во временной ряд\n",
    "try:\n",
    "\n",
    "    data = pd.read_csv('/Users/paulinesmirnova/Desktop/Практикум/taxi.csv', index_col=[0], parse_dates=[0])\n",
    "except:\n",
    "\n",
    "\n",
    "    data = pd.read_csv('/datasets/taxi.csv', index_col=[0], parse_dates=[0])"
   ]
  },
  {
   "cell_type": "code",
   "execution_count": 3,
   "metadata": {
    "scrolled": false
   },
   "outputs": [
    {
     "data": {
      "text/html": [
       "<div>\n",
       "<style scoped>\n",
       "    .dataframe tbody tr th:only-of-type {\n",
       "        vertical-align: middle;\n",
       "    }\n",
       "\n",
       "    .dataframe tbody tr th {\n",
       "        vertical-align: top;\n",
       "    }\n",
       "\n",
       "    .dataframe thead th {\n",
       "        text-align: right;\n",
       "    }\n",
       "</style>\n",
       "<table border=\"1\" class=\"dataframe\">\n",
       "  <thead>\n",
       "    <tr style=\"text-align: right;\">\n",
       "      <th></th>\n",
       "      <th>num_orders</th>\n",
       "    </tr>\n",
       "    <tr>\n",
       "      <th>datetime</th>\n",
       "      <th></th>\n",
       "    </tr>\n",
       "  </thead>\n",
       "  <tbody>\n",
       "    <tr>\n",
       "      <th>2018-03-01 00:00:00</th>\n",
       "      <td>9</td>\n",
       "    </tr>\n",
       "    <tr>\n",
       "      <th>2018-03-01 00:10:00</th>\n",
       "      <td>14</td>\n",
       "    </tr>\n",
       "    <tr>\n",
       "      <th>2018-03-01 00:20:00</th>\n",
       "      <td>28</td>\n",
       "    </tr>\n",
       "    <tr>\n",
       "      <th>2018-03-01 00:30:00</th>\n",
       "      <td>20</td>\n",
       "    </tr>\n",
       "    <tr>\n",
       "      <th>2018-03-01 00:40:00</th>\n",
       "      <td>32</td>\n",
       "    </tr>\n",
       "    <tr>\n",
       "      <th>...</th>\n",
       "      <td>...</td>\n",
       "    </tr>\n",
       "    <tr>\n",
       "      <th>2018-08-31 23:10:00</th>\n",
       "      <td>32</td>\n",
       "    </tr>\n",
       "    <tr>\n",
       "      <th>2018-08-31 23:20:00</th>\n",
       "      <td>24</td>\n",
       "    </tr>\n",
       "    <tr>\n",
       "      <th>2018-08-31 23:30:00</th>\n",
       "      <td>27</td>\n",
       "    </tr>\n",
       "    <tr>\n",
       "      <th>2018-08-31 23:40:00</th>\n",
       "      <td>39</td>\n",
       "    </tr>\n",
       "    <tr>\n",
       "      <th>2018-08-31 23:50:00</th>\n",
       "      <td>53</td>\n",
       "    </tr>\n",
       "  </tbody>\n",
       "</table>\n",
       "<p>26496 rows × 1 columns</p>\n",
       "</div>"
      ],
      "text/plain": [
       "                     num_orders\n",
       "datetime                       \n",
       "2018-03-01 00:00:00           9\n",
       "2018-03-01 00:10:00          14\n",
       "2018-03-01 00:20:00          28\n",
       "2018-03-01 00:30:00          20\n",
       "2018-03-01 00:40:00          32\n",
       "...                         ...\n",
       "2018-08-31 23:10:00          32\n",
       "2018-08-31 23:20:00          24\n",
       "2018-08-31 23:30:00          27\n",
       "2018-08-31 23:40:00          39\n",
       "2018-08-31 23:50:00          53\n",
       "\n",
       "[26496 rows x 1 columns]"
      ]
     },
     "execution_count": 3,
     "metadata": {},
     "output_type": "execute_result"
    }
   ],
   "source": [
    "data"
   ]
  },
  {
   "cell_type": "markdown",
   "metadata": {},
   "source": [
    "## Анализ"
   ]
  },
  {
   "cell_type": "code",
   "execution_count": 4,
   "metadata": {},
   "outputs": [
    {
     "name": "stdout",
     "output_type": "stream",
     "text": [
      "<class 'pandas.core.frame.DataFrame'>\n",
      "DatetimeIndex: 26496 entries, 2018-03-01 00:00:00 to 2018-08-31 23:50:00\n",
      "Data columns (total 1 columns):\n",
      " #   Column      Non-Null Count  Dtype\n",
      "---  ------      --------------  -----\n",
      " 0   num_orders  26496 non-null  int64\n",
      "dtypes: int64(1)\n",
      "memory usage: 414.0 KB\n"
     ]
    }
   ],
   "source": [
    "data.info()"
   ]
  },
  {
   "cell_type": "code",
   "execution_count": 5,
   "metadata": {
    "scrolled": true
   },
   "outputs": [],
   "source": [
    "#Resample by hour\n",
    "data = data.resample('1H').sum()"
   ]
  },
  {
   "cell_type": "code",
   "execution_count": 6,
   "metadata": {
    "scrolled": false
   },
   "outputs": [
    {
     "data": {
      "image/png": "[encoded data removed]",
      "text/plain": [
       "<Figure size 720x576 with 1 Axes>"
      ]
     },
     "metadata": {
      "needs_background": "light"
     },
     "output_type": "display_data"
    }
   ],
   "source": [
    "data.plot(figsize=(10,8))\n",
    "plt.title('Количество заказов по времени')\n",
    "plt.xlabel('Время')\n",
    "plt.ylabel('Количество заказов');"
   ]
  },
  {
   "cell_type": "markdown",
   "metadata": {},
   "source": [
    "Количество заказов растет от марта к августу, в некоторые часы есть значения похожие на выбрросы, но так как данные реальные, колебания допустимы. "
   ]
  },
  {
   "cell_type": "code",
   "execution_count": 7,
   "metadata": {
    "scrolled": false
   },
   "outputs": [
    {
     "data": {
      "image/png": "[encoded data removed]",
      "text/plain": [
       "<Figure size 432x576 with 3 Axes>"
      ]
     },
     "metadata": {
      "needs_background": "light"
     },
     "output_type": "display_data"
    }
   ],
   "source": [
    "#Попробуем разложить данные на сезонность, тренды и остаток, чтобы проследить закономерности \n",
    "decomposed = seasonal_decompose(data)\n",
    "plt.figure(figsize=(6, 8))\n",
    "plt.subplot(311)\n",
    "decomposed.trend.plot(ax=plt.gca())\n",
    "plt.title('Тренд')\n",
    "plt.subplot(312)\n",
    "decomposed.seasonal['2018-03-01':'2018-03-04'].plot(ax=plt.gca())\n",
    "plt.title('Сезонность')\n",
    "plt.subplot(313)\n",
    "decomposed.resid.plot(ax=plt.gca())\n",
    "plt.title('Отстатки')\n",
    "plt.tight_layout()"
   ]
  },
  {
   "cell_type": "markdown",
   "metadata": {},
   "source": [
    "Виден четкий тренд на увеливение количества заказов такси от начала весны и к концу лета. \n",
    "Сезонность сморим по промежутку с 1 по 5 января 2018 года для большей наглядности. Видна суточная сезонность, когда в зависимости от часа дня количество заказов то уменьшается то увеличивается. Пики активности видны ближе к вечеру, а спады ночью, в первые часы наступивших суток. Вероятно, это связано с тем, что в это время прилетает наименьшее количество рейсов. "
   ]
  },
  {
   "cell_type": "markdown",
   "metadata": {},
   "source": [
    "## Обучение\n",
    "Обучите разные модели с различными гиперпараметрами. Сделайте тестовую выборку размером 10% от исходных данных."
   ]
  },
  {
   "cell_type": "code",
   "execution_count": 8,
   "metadata": {},
   "outputs": [],
   "source": [
    "def make_features(data, max_lag, rolling_mean_size):\n",
    "    data_new = data.copy()\n",
    "    data_new['day'] = data_new.index.day\n",
    "    data_new['dayofweek'] = data_new.index.dayofweek\n",
    "\n",
    "    for lag in range(1, max_lag + 1):\n",
    "        data_new['lag_{}'.format(lag)] = data_new['num_orders'].shift(lag)\n",
    "    data_new['rolling_mean'] = data_new['num_orders'].shift().rolling(rolling_mean_size).mean()\n",
    "    return data_new"
   ]
  },
  {
   "cell_type": "code",
   "execution_count": 9,
   "metadata": {},
   "outputs": [
    {
     "data": {
      "text/html": [
       "<div>\n",
       "<style scoped>\n",
       "    .dataframe tbody tr th:only-of-type {\n",
       "        vertical-align: middle;\n",
       "    }\n",
       "\n",
       "    .dataframe tbody tr th {\n",
       "        vertical-align: top;\n",
       "    }\n",
       "\n",
       "    .dataframe thead th {\n",
       "        text-align: right;\n",
       "    }\n",
       "</style>\n",
       "<table border=\"1\" class=\"dataframe\">\n",
       "  <thead>\n",
       "    <tr style=\"text-align: right;\">\n",
       "      <th></th>\n",
       "      <th>num_orders</th>\n",
       "      <th>day</th>\n",
       "      <th>dayofweek</th>\n",
       "      <th>lag_1</th>\n",
       "      <th>lag_2</th>\n",
       "      <th>lag_3</th>\n",
       "      <th>lag_4</th>\n",
       "      <th>lag_5</th>\n",
       "      <th>lag_6</th>\n",
       "      <th>lag_7</th>\n",
       "      <th>...</th>\n",
       "      <th>lag_22</th>\n",
       "      <th>lag_23</th>\n",
       "      <th>lag_24</th>\n",
       "      <th>lag_25</th>\n",
       "      <th>lag_26</th>\n",
       "      <th>lag_27</th>\n",
       "      <th>lag_28</th>\n",
       "      <th>lag_29</th>\n",
       "      <th>lag_30</th>\n",
       "      <th>rolling_mean</th>\n",
       "    </tr>\n",
       "    <tr>\n",
       "      <th>datetime</th>\n",
       "      <th></th>\n",
       "      <th></th>\n",
       "      <th></th>\n",
       "      <th></th>\n",
       "      <th></th>\n",
       "      <th></th>\n",
       "      <th></th>\n",
       "      <th></th>\n",
       "      <th></th>\n",
       "      <th></th>\n",
       "      <th></th>\n",
       "      <th></th>\n",
       "      <th></th>\n",
       "      <th></th>\n",
       "      <th></th>\n",
       "      <th></th>\n",
       "      <th></th>\n",
       "      <th></th>\n",
       "      <th></th>\n",
       "      <th></th>\n",
       "      <th></th>\n",
       "    </tr>\n",
       "  </thead>\n",
       "  <tbody>\n",
       "    <tr>\n",
       "      <th>2018-03-01 00:00:00</th>\n",
       "      <td>124</td>\n",
       "      <td>1</td>\n",
       "      <td>3</td>\n",
       "      <td>NaN</td>\n",
       "      <td>NaN</td>\n",
       "      <td>NaN</td>\n",
       "      <td>NaN</td>\n",
       "      <td>NaN</td>\n",
       "      <td>NaN</td>\n",
       "      <td>NaN</td>\n",
       "      <td>...</td>\n",
       "      <td>NaN</td>\n",
       "      <td>NaN</td>\n",
       "      <td>NaN</td>\n",
       "      <td>NaN</td>\n",
       "      <td>NaN</td>\n",
       "      <td>NaN</td>\n",
       "      <td>NaN</td>\n",
       "      <td>NaN</td>\n",
       "      <td>NaN</td>\n",
       "      <td>NaN</td>\n",
       "    </tr>\n",
       "    <tr>\n",
       "      <th>2018-03-01 01:00:00</th>\n",
       "      <td>85</td>\n",
       "      <td>1</td>\n",
       "      <td>3</td>\n",
       "      <td>124.0</td>\n",
       "      <td>NaN</td>\n",
       "      <td>NaN</td>\n",
       "      <td>NaN</td>\n",
       "      <td>NaN</td>\n",
       "      <td>NaN</td>\n",
       "      <td>NaN</td>\n",
       "      <td>...</td>\n",
       "      <td>NaN</td>\n",
       "      <td>NaN</td>\n",
       "      <td>NaN</td>\n",
       "      <td>NaN</td>\n",
       "      <td>NaN</td>\n",
       "      <td>NaN</td>\n",
       "      <td>NaN</td>\n",
       "      <td>NaN</td>\n",
       "      <td>NaN</td>\n",
       "      <td>NaN</td>\n",
       "    </tr>\n",
       "    <tr>\n",
       "      <th>2018-03-01 02:00:00</th>\n",
       "      <td>71</td>\n",
       "      <td>1</td>\n",
       "      <td>3</td>\n",
       "      <td>85.0</td>\n",
       "      <td>124.0</td>\n",
       "      <td>NaN</td>\n",
       "      <td>NaN</td>\n",
       "      <td>NaN</td>\n",
       "      <td>NaN</td>\n",
       "      <td>NaN</td>\n",
       "      <td>...</td>\n",
       "      <td>NaN</td>\n",
       "      <td>NaN</td>\n",
       "      <td>NaN</td>\n",
       "      <td>NaN</td>\n",
       "      <td>NaN</td>\n",
       "      <td>NaN</td>\n",
       "      <td>NaN</td>\n",
       "      <td>NaN</td>\n",
       "      <td>NaN</td>\n",
       "      <td>NaN</td>\n",
       "    </tr>\n",
       "    <tr>\n",
       "      <th>2018-03-01 03:00:00</th>\n",
       "      <td>66</td>\n",
       "      <td>1</td>\n",
       "      <td>3</td>\n",
       "      <td>71.0</td>\n",
       "      <td>85.0</td>\n",
       "      <td>124.0</td>\n",
       "      <td>NaN</td>\n",
       "      <td>NaN</td>\n",
       "      <td>NaN</td>\n",
       "      <td>NaN</td>\n",
       "      <td>...</td>\n",
       "      <td>NaN</td>\n",
       "      <td>NaN</td>\n",
       "      <td>NaN</td>\n",
       "      <td>NaN</td>\n",
       "      <td>NaN</td>\n",
       "      <td>NaN</td>\n",
       "      <td>NaN</td>\n",
       "      <td>NaN</td>\n",
       "      <td>NaN</td>\n",
       "      <td>NaN</td>\n",
       "    </tr>\n",
       "    <tr>\n",
       "      <th>2018-03-01 04:00:00</th>\n",
       "      <td>43</td>\n",
       "      <td>1</td>\n",
       "      <td>3</td>\n",
       "      <td>66.0</td>\n",
       "      <td>71.0</td>\n",
       "      <td>85.0</td>\n",
       "      <td>124.0</td>\n",
       "      <td>NaN</td>\n",
       "      <td>NaN</td>\n",
       "      <td>NaN</td>\n",
       "      <td>...</td>\n",
       "      <td>NaN</td>\n",
       "      <td>NaN</td>\n",
       "      <td>NaN</td>\n",
       "      <td>NaN</td>\n",
       "      <td>NaN</td>\n",
       "      <td>NaN</td>\n",
       "      <td>NaN</td>\n",
       "      <td>NaN</td>\n",
       "      <td>NaN</td>\n",
       "      <td>NaN</td>\n",
       "    </tr>\n",
       "    <tr>\n",
       "      <th>...</th>\n",
       "      <td>...</td>\n",
       "      <td>...</td>\n",
       "      <td>...</td>\n",
       "      <td>...</td>\n",
       "      <td>...</td>\n",
       "      <td>...</td>\n",
       "      <td>...</td>\n",
       "      <td>...</td>\n",
       "      <td>...</td>\n",
       "      <td>...</td>\n",
       "      <td>...</td>\n",
       "      <td>...</td>\n",
       "      <td>...</td>\n",
       "      <td>...</td>\n",
       "      <td>...</td>\n",
       "      <td>...</td>\n",
       "      <td>...</td>\n",
       "      <td>...</td>\n",
       "      <td>...</td>\n",
       "      <td>...</td>\n",
       "      <td>...</td>\n",
       "    </tr>\n",
       "    <tr>\n",
       "      <th>2018-08-31 19:00:00</th>\n",
       "      <td>136</td>\n",
       "      <td>31</td>\n",
       "      <td>4</td>\n",
       "      <td>207.0</td>\n",
       "      <td>217.0</td>\n",
       "      <td>197.0</td>\n",
       "      <td>116.0</td>\n",
       "      <td>133.0</td>\n",
       "      <td>166.0</td>\n",
       "      <td>136.0</td>\n",
       "      <td>...</td>\n",
       "      <td>198.0</td>\n",
       "      <td>142.0</td>\n",
       "      <td>72.0</td>\n",
       "      <td>177.0</td>\n",
       "      <td>342.0</td>\n",
       "      <td>254.0</td>\n",
       "      <td>156.0</td>\n",
       "      <td>91.0</td>\n",
       "      <td>154.0</td>\n",
       "      <td>169.64</td>\n",
       "    </tr>\n",
       "    <tr>\n",
       "      <th>2018-08-31 20:00:00</th>\n",
       "      <td>154</td>\n",
       "      <td>31</td>\n",
       "      <td>4</td>\n",
       "      <td>136.0</td>\n",
       "      <td>207.0</td>\n",
       "      <td>217.0</td>\n",
       "      <td>197.0</td>\n",
       "      <td>116.0</td>\n",
       "      <td>133.0</td>\n",
       "      <td>166.0</td>\n",
       "      <td>...</td>\n",
       "      <td>158.0</td>\n",
       "      <td>198.0</td>\n",
       "      <td>142.0</td>\n",
       "      <td>72.0</td>\n",
       "      <td>177.0</td>\n",
       "      <td>342.0</td>\n",
       "      <td>254.0</td>\n",
       "      <td>156.0</td>\n",
       "      <td>91.0</td>\n",
       "      <td>169.18</td>\n",
       "    </tr>\n",
       "    <tr>\n",
       "      <th>2018-08-31 21:00:00</th>\n",
       "      <td>159</td>\n",
       "      <td>31</td>\n",
       "      <td>4</td>\n",
       "      <td>154.0</td>\n",
       "      <td>136.0</td>\n",
       "      <td>207.0</td>\n",
       "      <td>217.0</td>\n",
       "      <td>197.0</td>\n",
       "      <td>116.0</td>\n",
       "      <td>133.0</td>\n",
       "      <td>...</td>\n",
       "      <td>246.0</td>\n",
       "      <td>158.0</td>\n",
       "      <td>198.0</td>\n",
       "      <td>142.0</td>\n",
       "      <td>72.0</td>\n",
       "      <td>177.0</td>\n",
       "      <td>342.0</td>\n",
       "      <td>254.0</td>\n",
       "      <td>156.0</td>\n",
       "      <td>169.86</td>\n",
       "    </tr>\n",
       "    <tr>\n",
       "      <th>2018-08-31 22:00:00</th>\n",
       "      <td>223</td>\n",
       "      <td>31</td>\n",
       "      <td>4</td>\n",
       "      <td>159.0</td>\n",
       "      <td>154.0</td>\n",
       "      <td>136.0</td>\n",
       "      <td>207.0</td>\n",
       "      <td>217.0</td>\n",
       "      <td>197.0</td>\n",
       "      <td>116.0</td>\n",
       "      <td>...</td>\n",
       "      <td>276.0</td>\n",
       "      <td>246.0</td>\n",
       "      <td>158.0</td>\n",
       "      <td>198.0</td>\n",
       "      <td>142.0</td>\n",
       "      <td>72.0</td>\n",
       "      <td>177.0</td>\n",
       "      <td>342.0</td>\n",
       "      <td>254.0</td>\n",
       "      <td>169.66</td>\n",
       "    </tr>\n",
       "    <tr>\n",
       "      <th>2018-08-31 23:00:00</th>\n",
       "      <td>205</td>\n",
       "      <td>31</td>\n",
       "      <td>4</td>\n",
       "      <td>223.0</td>\n",
       "      <td>159.0</td>\n",
       "      <td>154.0</td>\n",
       "      <td>136.0</td>\n",
       "      <td>207.0</td>\n",
       "      <td>217.0</td>\n",
       "      <td>197.0</td>\n",
       "      <td>...</td>\n",
       "      <td>194.0</td>\n",
       "      <td>276.0</td>\n",
       "      <td>246.0</td>\n",
       "      <td>158.0</td>\n",
       "      <td>198.0</td>\n",
       "      <td>142.0</td>\n",
       "      <td>72.0</td>\n",
       "      <td>177.0</td>\n",
       "      <td>342.0</td>\n",
       "      <td>170.30</td>\n",
       "    </tr>\n",
       "  </tbody>\n",
       "</table>\n",
       "<p>4416 rows × 34 columns</p>\n",
       "</div>"
      ],
      "text/plain": [
       "                     num_orders  day  dayofweek  lag_1  lag_2  lag_3  lag_4  \\\n",
       "datetime                                                                      \n",
       "2018-03-01 00:00:00         124    1          3    NaN    NaN    NaN    NaN   \n",
       "2018-03-01 01:00:00          85    1          3  124.0    NaN    NaN    NaN   \n",
       "2018-03-01 02:00:00          71    1          3   85.0  124.0    NaN    NaN   \n",
       "2018-03-01 03:00:00          66    1          3   71.0   85.0  124.0    NaN   \n",
       "2018-03-01 04:00:00          43    1          3   66.0   71.0   85.0  124.0   \n",
       "...                         ...  ...        ...    ...    ...    ...    ...   \n",
       "2018-08-31 19:00:00         136   31          4  207.0  217.0  197.0  116.0   \n",
       "2018-08-31 20:00:00         154   31          4  136.0  207.0  217.0  197.0   \n",
       "2018-08-31 21:00:00         159   31          4  154.0  136.0  207.0  217.0   \n",
       "2018-08-31 22:00:00         223   31          4  159.0  154.0  136.0  207.0   \n",
       "2018-08-31 23:00:00         205   31          4  223.0  159.0  154.0  136.0   \n",
       "\n",
       "                     lag_5  lag_6  lag_7  ...  lag_22  lag_23  lag_24  lag_25  \\\n",
       "datetime                                  ...                                   \n",
       "2018-03-01 00:00:00    NaN    NaN    NaN  ...     NaN     NaN     NaN     NaN   \n",
       "2018-03-01 01:00:00    NaN    NaN    NaN  ...     NaN     NaN     NaN     NaN   \n",
       "2018-03-01 02:00:00    NaN    NaN    NaN  ...     NaN     NaN     NaN     NaN   \n",
       "2018-03-01 03:00:00    NaN    NaN    NaN  ...     NaN     NaN     NaN     NaN   \n",
       "2018-03-01 04:00:00    NaN    NaN    NaN  ...     NaN     NaN     NaN     NaN   \n",
       "...                    ...    ...    ...  ...     ...     ...     ...     ...   \n",
       "2018-08-31 19:00:00  133.0  166.0  136.0  ...   198.0   142.0    72.0   177.0   \n",
       "2018-08-31 20:00:00  116.0  133.0  166.0  ...   158.0   198.0   142.0    72.0   \n",
       "2018-08-31 21:00:00  197.0  116.0  133.0  ...   246.0   158.0   198.0   142.0   \n",
       "2018-08-31 22:00:00  217.0  197.0  116.0  ...   276.0   246.0   158.0   198.0   \n",
       "2018-08-31 23:00:00  207.0  217.0  197.0  ...   194.0   276.0   246.0   158.0   \n",
       "\n",
       "                     lag_26  lag_27  lag_28  lag_29  lag_30  rolling_mean  \n",
       "datetime                                                                   \n",
       "2018-03-01 00:00:00     NaN     NaN     NaN     NaN     NaN           NaN  \n",
       "2018-03-01 01:00:00     NaN     NaN     NaN     NaN     NaN           NaN  \n",
       "2018-03-01 02:00:00     NaN     NaN     NaN     NaN     NaN           NaN  \n",
       "2018-03-01 03:00:00     NaN     NaN     NaN     NaN     NaN           NaN  \n",
       "2018-03-01 04:00:00     NaN     NaN     NaN     NaN     NaN           NaN  \n",
       "...                     ...     ...     ...     ...     ...           ...  \n",
       "2018-08-31 19:00:00   342.0   254.0   156.0    91.0   154.0        169.64  \n",
       "2018-08-31 20:00:00   177.0   342.0   254.0   156.0    91.0        169.18  \n",
       "2018-08-31 21:00:00    72.0   177.0   342.0   254.0   156.0        169.86  \n",
       "2018-08-31 22:00:00   142.0    72.0   177.0   342.0   254.0        169.66  \n",
       "2018-08-31 23:00:00   198.0   142.0    72.0   177.0   342.0        170.30  \n",
       "\n",
       "[4416 rows x 34 columns]"
      ]
     },
     "execution_count": 9,
     "metadata": {},
     "output_type": "execute_result"
    }
   ],
   "source": [
    "#Создаем признаки в новый датасет\n",
    "data_new = make_features(data, 30, 50)\n",
    "data_new"
   ]
  },
  {
   "cell_type": "code",
   "execution_count": 10,
   "metadata": {
    "scrolled": true
   },
   "outputs": [
    {
     "name": "stdout",
     "output_type": "stream",
     "text": [
      "(3924, 34)\n",
      "(442, 34)\n"
     ]
    }
   ],
   "source": [
    "#Делим на тренировочную и тестовую выборки, без перемешивания, чтобы модель не обучалась на данных из будущего\n",
    "train, test = train_test_split(data_new, shuffle=False, test_size=0.1)\n",
    "train = train.dropna()\n",
    "\n",
    "print(train.shape)\n",
    "print(test.shape)"
   ]
  },
  {
   "cell_type": "code",
   "execution_count": 11,
   "metadata": {
    "scrolled": true
   },
   "outputs": [
    {
     "name": "stdout",
     "output_type": "stream",
     "text": [
      "RMSE модели: 25.3457\n",
      "RMSE модели на тестовых данных: 44.5969\n",
      "MAE обучающей выборки: 19.29904070511366\n"
     ]
    }
   ],
   "source": [
    "train_features = train.drop(['num_orders'], axis=1)\n",
    "train_target = train['num_orders']\n",
    "test_features = test.drop(['num_orders'], axis=1)\n",
    "test_target = test['num_orders']\n",
    "\n",
    "model = LinearRegression().fit(train_features, train_target)\n",
    "\n",
    "train_pred = model.predict(train_features)\n",
    "test_pred = model.predict(test_features)\n",
    "\n",
    "rmse = mean_squared_error(train_target, train_pred)**.5\n",
    "rmse_test = mean_squared_error(test_target, test_pred)**.5\n",
    "\n",
    "print('RMSE модели: {:.4f}'.format(rmse))\n",
    "print('RMSE модели на тестовых данных: {:.4f}'.format(rmse_test))\n",
    "print(\"MAE обучающей выборки:\", mean_absolute_error(train_target, train_pred))"
   ]
  },
  {
   "cell_type": "code",
   "execution_count": 12,
   "metadata": {
    "scrolled": false
   },
   "outputs": [
    {
     "name": "stdout",
     "output_type": "stream",
     "text": [
      "RMSE модели: 58.856\n"
     ]
    }
   ],
   "source": [
    "pred_previous = test['num_orders'].shift(fill_value=train['num_orders'].iloc[-1])\n",
    "rmse_base =  mean_squared_error(test['num_orders'], pred_previous) ** 0.5\n",
    "print(\"RMSE модели:\", round(rmse_base, 3))"
   ]
  },
  {
   "cell_type": "code",
   "execution_count": 13,
   "metadata": {
    "scrolled": true
   },
   "outputs": [
    {
     "name": "stdout",
     "output_type": "stream",
     "text": [
      "Среднее число заказов такси в час: 139.55656108597285\n",
      "MAE: 44.97285067873303\n"
     ]
    }
   ],
   "source": [
    "print(\"Среднее число заказов такси в час:\", test['num_orders'].mean())\n",
    "print(\"MAE:\", mean_absolute_error(test['num_orders'], pred_previous))"
   ]
  },
  {
   "cell_type": "markdown",
   "metadata": {},
   "source": [
    "Метрика RMSE небольшая, что говорит о правильно подобранной модели. \n",
    "Попробуем еще одну модель для прогнозирования. "
   ]
  },
  {
   "cell_type": "code",
   "execution_count": 17,
   "metadata": {
    "scrolled": true
   },
   "outputs": [],
   "source": [
    "regr = lgb.LGBMRegressor()\n",
    "\n",
    "param_search = {'max_depth' : [3, 5]}\n",
    "\n",
    "tscv = TimeSeriesSplit(n_splits=len(data_new['dayofweek'].unique()) - 1)\n",
    "\n",
    "gsearch = GridSearchCV(estimator=regr, cv=tscv,\n",
    "                        param_grid=param_search)\n",
    "gsearch.fit(train_features, train_target)\n",
    "\n",
    "regr_best = gsearch.best_estimator_"
   ]
  },
  {
   "cell_type": "markdown",
   "metadata": {},
   "source": [
    "## Тестирование"
   ]
  },
  {
   "cell_type": "code",
   "execution_count": 18,
   "metadata": {
    "scrolled": true
   },
   "outputs": [
    {
     "name": "stdout",
     "output_type": "stream",
     "text": [
      "Train RMSE: 16.13\n",
      "Test RMSE: 42.08\n"
     ]
    }
   ],
   "source": [
    "train_result = mean_squared_error(train_target, regr_best.predict(train_features), squared=False)\n",
    "test_result = mean_squared_error(test_target, regr_best.predict(test_features), squared=False)\n",
    "print('Train RMSE:', round(train_result,2))\n",
    "print('Test RMSE:', round(test_result,2))"
   ]
  },
  {
   "cell_type": "markdown",
   "metadata": {},
   "source": [
    "Метрика стала чуть больше, но все еще не больше 48. "
   ]
  },
  {
   "cell_type": "code",
   "execution_count": 19,
   "metadata": {},
   "outputs": [],
   "source": [
    "true_pred = pd.DataFrame({ \n",
    "    'y_true' : test_target,\n",
    "    'y_pred' : regr_best.predict(test_features)\n",
    "    })"
   ]
  },
  {
   "cell_type": "code",
   "execution_count": 20,
   "metadata": {
    "scrolled": false
   },
   "outputs": [
    {
     "data": {
      "text/plain": [
       "<AxesSubplot:xlabel='datetime'>"
      ]
     },
     "execution_count": 20,
     "metadata": {},
     "output_type": "execute_result"
    },
    {
     "data": {
      "image/png": "[encoded data removed]",
      "text/plain": [
       "<Figure size 1008x432 with 1 Axes>"
      ]
     },
     "metadata": {
      "needs_background": "light"
     },
     "output_type": "display_data"
    }
   ],
   "source": [
    "true_pred.plot(figsize=(14,6))"
   ]
  },
  {
   "cell_type": "markdown",
   "metadata": {},
   "source": [
    "По графику видно, что предсказания близки к результатам на тренировочной выборке. "
   ]
  },
  {
   "cell_type": "markdown",
   "metadata": {},
   "source": [
    "## Вывод"
   ]
  },
  {
   "cell_type": "markdown",
   "metadata": {},
   "source": [
    "В начале работы данные были загружены и ресемплированы по одному часу для удобства дальнейшей работы. Чтобы проследить закономерности в данных был составлен общий график разброса значений. Далее данные были разложены на сезонность, тренды и остатки. Сезонность не имеет смысла, так как данные за слишком короткий период. Виден четкий тренд на увеливение количества заказов такси от начала весны и к концу лета. \n",
    "Дальше данные были разделены на две выборки, тестовая выборка была размером 10% от всех данных. Модель линейной регрессии была обучена на тренировочных данных. Результат метрики RMSE на тренировочных данных был 7.43. Далее была обробована модель LGBMRegressor. Результат метрики RMSE на тестовых данных 7.13. Немного лучше результаты у линейной регрессии. "
   ]
  }
 ],
 "metadata": {
  "ExecuteTimeLog": [
   {
    "duration": 455,
    "start_time": "2023-01-31T16:46:34.787Z"
   },
   {
    "duration": 121,
    "start_time": "2023-01-31T16:46:50.558Z"
   },
   {
    "duration": 121,
    "start_time": "2023-01-31T16:46:53.330Z"
   },
   {
    "duration": 21,
    "start_time": "2023-01-31T16:46:58.452Z"
   },
   {
    "duration": 16,
    "start_time": "2023-01-31T16:47:47.143Z"
   },
   {
    "duration": 4,
    "start_time": "2023-01-31T16:48:15.263Z"
   },
   {
    "duration": 59,
    "start_time": "2023-01-31T16:48:20.089Z"
   },
   {
    "duration": 10,
    "start_time": "2023-01-31T16:48:20.976Z"
   },
   {
    "duration": 16,
    "start_time": "2023-01-31T16:48:21.977Z"
   },
   {
    "duration": 15,
    "start_time": "2023-01-31T16:54:52.331Z"
   },
   {
    "duration": 8,
    "start_time": "2023-01-31T16:59:42.317Z"
   },
   {
    "duration": 12,
    "start_time": "2023-01-31T16:59:46.771Z"
   },
   {
    "duration": 11,
    "start_time": "2023-01-31T16:59:53.708Z"
   },
   {
    "duration": 3,
    "start_time": "2023-01-31T16:59:58.860Z"
   },
   {
    "duration": 66,
    "start_time": "2023-01-31T16:59:58.865Z"
   },
   {
    "duration": 9,
    "start_time": "2023-01-31T16:59:58.933Z"
   },
   {
    "duration": 18,
    "start_time": "2023-01-31T16:59:58.944Z"
   },
   {
    "duration": 4,
    "start_time": "2023-01-31T17:00:00.938Z"
   },
   {
    "duration": 5,
    "start_time": "2023-01-31T17:00:04.946Z"
   },
   {
    "duration": 8,
    "start_time": "2023-01-31T17:00:40.026Z"
   },
   {
    "duration": 2,
    "start_time": "2023-01-31T17:00:44.195Z"
   },
   {
    "duration": 62,
    "start_time": "2023-01-31T17:00:44.199Z"
   },
   {
    "duration": 12,
    "start_time": "2023-01-31T17:00:44.263Z"
   },
   {
    "duration": 11,
    "start_time": "2023-01-31T17:00:44.277Z"
   },
   {
    "duration": 7,
    "start_time": "2023-01-31T17:00:45.408Z"
   },
   {
    "duration": 728,
    "start_time": "2023-01-31T17:01:11.078Z"
   },
   {
    "duration": 254,
    "start_time": "2023-01-31T17:04:30.396Z"
   },
   {
    "duration": 367,
    "start_time": "2023-01-31T17:04:34.297Z"
   },
   {
    "duration": 502,
    "start_time": "2023-01-31T17:06:23.077Z"
   },
   {
    "duration": 4,
    "start_time": "2023-01-31T17:08:16.686Z"
   },
   {
    "duration": 936,
    "start_time": "2023-01-31T17:09:01.289Z"
   },
   {
    "duration": 1530,
    "start_time": "2023-02-01T18:00:33.566Z"
   },
   {
    "duration": 327,
    "start_time": "2023-02-01T18:00:36.920Z"
   },
   {
    "duration": 12,
    "start_time": "2023-02-01T18:00:37.249Z"
   },
   {
    "duration": 10,
    "start_time": "2023-02-01T18:00:37.529Z"
   },
   {
    "duration": 7,
    "start_time": "2023-02-01T18:00:37.770Z"
   },
   {
    "duration": 263,
    "start_time": "2023-02-01T18:00:38.001Z"
   },
   {
    "duration": 869,
    "start_time": "2023-02-01T18:00:38.480Z"
   },
   {
    "duration": 6,
    "start_time": "2023-02-01T18:00:39.454Z"
   },
   {
    "duration": 1259,
    "start_time": "2023-02-01T18:03:15.412Z"
   },
   {
    "duration": 13,
    "start_time": "2023-02-01T18:03:40.212Z"
   },
   {
    "duration": 6,
    "start_time": "2023-02-01T18:03:51.517Z"
   },
   {
    "duration": 7,
    "start_time": "2023-02-01T18:03:54.255Z"
   },
   {
    "duration": 5,
    "start_time": "2023-02-01T18:04:30.761Z"
   },
   {
    "duration": 6,
    "start_time": "2023-02-01T18:04:32.128Z"
   },
   {
    "duration": 13,
    "start_time": "2023-02-01T18:06:55.000Z"
   },
   {
    "duration": 7,
    "start_time": "2023-02-01T18:08:04.717Z"
   },
   {
    "duration": 8,
    "start_time": "2023-02-01T18:41:36.344Z"
   },
   {
    "duration": 4,
    "start_time": "2023-02-01T18:41:41.820Z"
   },
   {
    "duration": 69,
    "start_time": "2023-02-01T18:41:41.826Z"
   },
   {
    "duration": 37,
    "start_time": "2023-02-01T18:41:41.897Z"
   },
   {
    "duration": 26,
    "start_time": "2023-02-01T18:41:41.935Z"
   },
   {
    "duration": 6,
    "start_time": "2023-02-01T18:41:41.964Z"
   },
   {
    "duration": 246,
    "start_time": "2023-02-01T18:41:41.971Z"
   },
   {
    "duration": 706,
    "start_time": "2023-02-01T18:41:42.219Z"
   },
   {
    "duration": 5,
    "start_time": "2023-02-01T18:41:42.927Z"
   },
   {
    "duration": 11,
    "start_time": "2023-02-01T18:41:42.933Z"
   },
   {
    "duration": 10,
    "start_time": "2023-02-01T18:41:45.016Z"
   },
   {
    "duration": 15,
    "start_time": "2023-02-01T18:42:32.665Z"
   },
   {
    "duration": 14,
    "start_time": "2023-02-01T18:42:41.717Z"
   },
   {
    "duration": 4,
    "start_time": "2023-02-01T18:43:58.016Z"
   },
   {
    "duration": 9,
    "start_time": "2023-02-01T18:44:22.552Z"
   },
   {
    "duration": 6,
    "start_time": "2023-02-01T18:44:23.530Z"
   },
   {
    "duration": 6,
    "start_time": "2023-02-01T18:44:23.801Z"
   },
   {
    "duration": 313,
    "start_time": "2023-02-01T18:44:24.057Z"
   },
   {
    "duration": 102,
    "start_time": "2023-02-01T18:44:32.424Z"
   },
   {
    "duration": 25,
    "start_time": "2023-02-01T18:44:44.150Z"
   },
   {
    "duration": 120,
    "start_time": "2023-02-01T18:44:49.691Z"
   },
   {
    "duration": 19,
    "start_time": "2023-02-01T18:48:00.704Z"
   },
   {
    "duration": 28,
    "start_time": "2023-02-01T18:48:06.344Z"
   },
   {
    "duration": 18,
    "start_time": "2023-02-01T18:48:09.245Z"
   },
   {
    "duration": 12,
    "start_time": "2023-02-01T18:49:19.311Z"
   },
   {
    "duration": 4,
    "start_time": "2023-02-01T18:49:35.129Z"
   },
   {
    "duration": 23,
    "start_time": "2023-02-01T18:49:41.291Z"
   },
   {
    "duration": 13,
    "start_time": "2023-02-01T18:50:05.355Z"
   },
   {
    "duration": 13,
    "start_time": "2023-02-01T18:50:27.648Z"
   },
   {
    "duration": 10,
    "start_time": "2023-02-01T19:42:47.815Z"
   },
   {
    "duration": 11,
    "start_time": "2023-02-01T19:43:25.115Z"
   },
   {
    "duration": 10,
    "start_time": "2023-02-01T19:43:44.740Z"
   },
   {
    "duration": 23,
    "start_time": "2023-02-01T19:44:14.058Z"
   },
   {
    "duration": 13,
    "start_time": "2023-02-01T19:45:31.592Z"
   },
   {
    "duration": 122,
    "start_time": "2023-02-01T19:52:51.089Z"
   },
   {
    "duration": 7,
    "start_time": "2023-02-01T19:53:12.901Z"
   },
   {
    "duration": 6,
    "start_time": "2023-02-01T19:55:23.111Z"
   },
   {
    "duration": 4,
    "start_time": "2023-02-01T20:01:43.895Z"
   },
   {
    "duration": 76,
    "start_time": "2023-02-01T20:01:43.901Z"
   },
   {
    "duration": 8,
    "start_time": "2023-02-01T20:01:43.979Z"
   },
   {
    "duration": 19,
    "start_time": "2023-02-01T20:01:43.988Z"
   },
   {
    "duration": 24,
    "start_time": "2023-02-01T20:01:44.009Z"
   },
   {
    "duration": 328,
    "start_time": "2023-02-01T20:01:44.035Z"
   },
   {
    "duration": 902,
    "start_time": "2023-02-01T20:01:44.366Z"
   },
   {
    "duration": 7,
    "start_time": "2023-02-01T20:01:45.270Z"
   },
   {
    "duration": 11,
    "start_time": "2023-02-01T20:01:45.279Z"
   },
   {
    "duration": 11,
    "start_time": "2023-02-01T20:01:45.304Z"
   },
   {
    "duration": 502,
    "start_time": "2023-02-01T20:01:45.317Z"
   },
   {
    "duration": 97,
    "start_time": "2023-02-01T20:02:05.996Z"
   },
   {
    "duration": 1657,
    "start_time": "2023-02-03T14:53:49.900Z"
   },
   {
    "duration": 150,
    "start_time": "2023-02-03T14:53:53.951Z"
   },
   {
    "duration": 15,
    "start_time": "2023-02-03T14:53:54.135Z"
   },
   {
    "duration": 12,
    "start_time": "2023-02-03T14:53:54.529Z"
   },
   {
    "duration": 12,
    "start_time": "2023-02-03T14:53:55.128Z"
   },
   {
    "duration": 270,
    "start_time": "2023-02-03T14:53:55.394Z"
   },
   {
    "duration": 941,
    "start_time": "2023-02-03T14:53:59.103Z"
   },
   {
    "duration": 125,
    "start_time": "2023-02-03T14:54:10.182Z"
   },
   {
    "duration": 11,
    "start_time": "2023-02-03T14:54:19.206Z"
   },
   {
    "duration": 5,
    "start_time": "2023-02-03T14:54:28.460Z"
   },
   {
    "duration": 64,
    "start_time": "2023-02-03T14:54:38.816Z"
   },
   {
    "duration": 14,
    "start_time": "2023-02-03T14:55:43.571Z"
   },
   {
    "duration": 6,
    "start_time": "2023-02-03T14:55:44.309Z"
   },
   {
    "duration": 5,
    "start_time": "2023-02-03T14:55:44.492Z"
   },
   {
    "duration": 4,
    "start_time": "2023-02-03T14:55:44.657Z"
   },
   {
    "duration": 52,
    "start_time": "2023-02-03T14:55:44.825Z"
   },
   {
    "duration": 236,
    "start_time": "2023-02-03T14:55:47.261Z"
   },
   {
    "duration": 25,
    "start_time": "2023-02-03T14:55:56.482Z"
   },
   {
    "duration": 3,
    "start_time": "2023-02-03T14:56:04.272Z"
   },
   {
    "duration": 16,
    "start_time": "2023-02-03T14:56:18.141Z"
   },
   {
    "duration": 574346,
    "start_time": "2023-02-03T14:59:00.545Z"
   },
   {
    "duration": 430095,
    "start_time": "2023-02-03T15:08:34.893Z"
   },
   {
    "duration": 4,
    "start_time": "2023-02-03T15:15:44.990Z"
   },
   {
    "duration": 104,
    "start_time": "2023-02-03T15:15:44.996Z"
   },
   {
    "duration": 10,
    "start_time": "2023-02-03T15:15:45.184Z"
   },
   {
    "duration": 350,
    "start_time": "2023-02-03T15:15:45.196Z"
   },
   {
    "duration": 263,
    "start_time": "2023-02-03T15:18:52.817Z"
   },
   {
    "duration": 305,
    "start_time": "2023-02-03T15:21:10.183Z"
   },
   {
    "duration": 33,
    "start_time": "2023-02-03T15:22:42.753Z"
   },
   {
    "duration": 1907,
    "start_time": "2023-02-03T15:49:41.186Z"
   },
   {
    "duration": 48,
    "start_time": "2023-02-03T15:49:43.096Z"
   },
   {
    "duration": 12,
    "start_time": "2023-02-03T15:49:43.145Z"
   },
   {
    "duration": 11,
    "start_time": "2023-02-03T15:49:43.159Z"
   },
   {
    "duration": 8,
    "start_time": "2023-02-03T15:49:43.172Z"
   },
   {
    "duration": 270,
    "start_time": "2023-02-03T15:49:43.182Z"
   },
   {
    "duration": 673,
    "start_time": "2023-02-03T15:49:43.454Z"
   },
   {
    "duration": 112,
    "start_time": "2023-02-03T15:49:44.130Z"
   },
   {
    "duration": 5,
    "start_time": "2023-02-03T15:52:59.780Z"
   },
   {
    "duration": 64,
    "start_time": "2023-02-03T15:53:02.198Z"
   },
   {
    "duration": 17,
    "start_time": "2023-02-03T15:53:27.735Z"
   },
   {
    "duration": 273,
    "start_time": "2023-02-03T15:53:42.777Z"
   },
   {
    "duration": 5,
    "start_time": "2023-02-03T15:53:53.616Z"
   },
   {
    "duration": 5,
    "start_time": "2023-02-03T15:53:57.770Z"
   },
   {
    "duration": 247289,
    "start_time": "2023-02-03T15:55:07.269Z"
   },
   {
    "duration": 0,
    "start_time": "2023-02-03T15:59:14.559Z"
   },
   {
    "duration": 0,
    "start_time": "2023-02-03T15:59:14.561Z"
   },
   {
    "duration": 1693,
    "start_time": "2023-02-03T15:59:22.582Z"
   },
   {
    "duration": 46,
    "start_time": "2023-02-03T15:59:24.277Z"
   },
   {
    "duration": 14,
    "start_time": "2023-02-03T15:59:24.325Z"
   },
   {
    "duration": 19,
    "start_time": "2023-02-03T15:59:24.341Z"
   },
   {
    "duration": 8,
    "start_time": "2023-02-03T15:59:24.362Z"
   },
   {
    "duration": 229,
    "start_time": "2023-02-03T15:59:24.372Z"
   },
   {
    "duration": 678,
    "start_time": "2023-02-03T15:59:24.603Z"
   },
   {
    "duration": 4,
    "start_time": "2023-02-03T15:59:25.282Z"
   },
   {
    "duration": 130,
    "start_time": "2023-02-03T15:59:25.288Z"
   },
   {
    "duration": 9,
    "start_time": "2023-02-03T15:59:25.427Z"
   },
   {
    "duration": 99,
    "start_time": "2023-02-03T15:59:25.437Z"
   },
   {
    "duration": 10,
    "start_time": "2023-02-03T15:59:25.629Z"
   },
   {
    "duration": 8,
    "start_time": "2023-02-03T15:59:25.728Z"
   },
   {
    "duration": 1591,
    "start_time": "2023-02-04T08:05:54.194Z"
   },
   {
    "duration": 143,
    "start_time": "2023-02-04T08:05:55.788Z"
   },
   {
    "duration": 14,
    "start_time": "2023-02-04T08:05:55.933Z"
   },
   {
    "duration": 12,
    "start_time": "2023-02-04T08:05:55.950Z"
   },
   {
    "duration": 9,
    "start_time": "2023-02-04T08:05:55.986Z"
   },
   {
    "duration": 291,
    "start_time": "2023-02-04T08:06:38.857Z"
   },
   {
    "duration": 235,
    "start_time": "2023-02-04T08:08:33.629Z"
   },
   {
    "duration": 321,
    "start_time": "2023-02-04T08:08:41.833Z"
   },
   {
    "duration": 229,
    "start_time": "2023-02-04T08:08:50.479Z"
   },
   {
    "duration": 4,
    "start_time": "2023-02-04T08:09:05.479Z"
   },
   {
    "duration": 353,
    "start_time": "2023-02-04T08:09:26.389Z"
   },
   {
    "duration": 220,
    "start_time": "2023-02-04T08:09:31.666Z"
   },
   {
    "duration": 225,
    "start_time": "2023-02-04T08:10:00.760Z"
   },
   {
    "duration": 312,
    "start_time": "2023-02-04T08:10:06.052Z"
   },
   {
    "duration": 229,
    "start_time": "2023-02-04T08:10:54.945Z"
   },
   {
    "duration": 220,
    "start_time": "2023-02-04T08:10:59.169Z"
   },
   {
    "duration": 218,
    "start_time": "2023-02-04T08:11:01.352Z"
   },
   {
    "duration": 230,
    "start_time": "2023-02-04T08:12:43.152Z"
   },
   {
    "duration": 244,
    "start_time": "2023-02-04T08:13:50.427Z"
   },
   {
    "duration": 353,
    "start_time": "2023-02-04T08:14:00.829Z"
   },
   {
    "duration": 245,
    "start_time": "2023-02-04T08:14:45.495Z"
   },
   {
    "duration": 218,
    "start_time": "2023-02-04T08:14:50.632Z"
   },
   {
    "duration": 365,
    "start_time": "2023-02-04T08:14:55.349Z"
   },
   {
    "duration": 228,
    "start_time": "2023-02-04T08:15:00.979Z"
   },
   {
    "duration": 220,
    "start_time": "2023-02-04T08:15:23.778Z"
   },
   {
    "duration": 306,
    "start_time": "2023-02-04T08:15:31.361Z"
   },
   {
    "duration": 225,
    "start_time": "2023-02-04T08:15:34.500Z"
   },
   {
    "duration": 225,
    "start_time": "2023-02-04T08:15:39.800Z"
   },
   {
    "duration": 217,
    "start_time": "2023-02-04T08:16:34.800Z"
   },
   {
    "duration": 301,
    "start_time": "2023-02-04T08:16:46.437Z"
   },
   {
    "duration": 217,
    "start_time": "2023-02-04T08:16:51.459Z"
   },
   {
    "duration": 344,
    "start_time": "2023-02-04T08:17:22.539Z"
   },
   {
    "duration": 258,
    "start_time": "2023-02-04T08:17:25.902Z"
   },
   {
    "duration": 254,
    "start_time": "2023-02-04T08:17:34.858Z"
   },
   {
    "duration": 277,
    "start_time": "2023-02-04T08:18:21.150Z"
   },
   {
    "duration": 794,
    "start_time": "2023-02-04T08:18:46.716Z"
   },
   {
    "duration": 848,
    "start_time": "2023-02-04T08:18:57.435Z"
   },
   {
    "duration": 680,
    "start_time": "2023-02-04T08:19:22.470Z"
   },
   {
    "duration": 1842,
    "start_time": "2023-02-04T08:21:03.153Z"
   },
   {
    "duration": 714,
    "start_time": "2023-02-04T08:21:17.334Z"
   },
   {
    "duration": 4,
    "start_time": "2023-02-04T08:25:54.633Z"
   },
   {
    "duration": 58,
    "start_time": "2023-02-04T08:25:54.783Z"
   },
   {
    "duration": 11,
    "start_time": "2023-02-04T08:25:55.165Z"
   },
   {
    "duration": 226,
    "start_time": "2023-02-04T08:25:55.915Z"
   },
   {
    "duration": 6,
    "start_time": "2023-02-04T08:26:05.072Z"
   },
   {
    "duration": 5,
    "start_time": "2023-02-04T08:26:28.174Z"
   },
   {
    "duration": 390096,
    "start_time": "2023-02-04T08:26:31.755Z"
   },
   {
    "duration": 5,
    "start_time": "2023-02-04T08:33:01.853Z"
   },
   {
    "duration": 11,
    "start_time": "2023-02-04T08:38:43.682Z"
   },
   {
    "duration": 4,
    "start_time": "2023-02-04T08:39:01.688Z"
   },
   {
    "duration": 5,
    "start_time": "2023-02-04T08:39:07.876Z"
   },
   {
    "duration": 11,
    "start_time": "2023-02-04T08:43:54.755Z"
   },
   {
    "duration": 31,
    "start_time": "2023-02-04T08:44:08.821Z"
   },
   {
    "duration": 4,
    "start_time": "2023-02-04T08:49:36.202Z"
   },
   {
    "duration": 48,
    "start_time": "2023-02-04T08:49:36.208Z"
   },
   {
    "duration": 10,
    "start_time": "2023-02-04T08:49:36.257Z"
   },
   {
    "duration": 19,
    "start_time": "2023-02-04T08:49:36.269Z"
   },
   {
    "duration": 7,
    "start_time": "2023-02-04T08:49:36.290Z"
   },
   {
    "duration": 284,
    "start_time": "2023-02-04T08:49:36.299Z"
   },
   {
    "duration": 630,
    "start_time": "2023-02-04T08:49:36.584Z"
   },
   {
    "duration": 5,
    "start_time": "2023-02-04T08:49:37.216Z"
   },
   {
    "duration": 77,
    "start_time": "2023-02-04T08:49:37.222Z"
   },
   {
    "duration": 9,
    "start_time": "2023-02-04T08:49:37.301Z"
   },
   {
    "duration": 232,
    "start_time": "2023-02-04T08:49:37.313Z"
   },
   {
    "duration": 7,
    "start_time": "2023-02-04T08:49:37.548Z"
   },
   {
    "duration": 6,
    "start_time": "2023-02-04T08:49:37.639Z"
   },
   {
    "duration": 366100,
    "start_time": "2023-02-04T08:49:37.647Z"
   },
   {
    "duration": 24,
    "start_time": "2023-02-04T08:55:43.749Z"
   },
   {
    "duration": 2043,
    "start_time": "2023-02-04T11:30:27.859Z"
   },
   {
    "duration": 127,
    "start_time": "2023-02-04T11:30:29.904Z"
   },
   {
    "duration": 11,
    "start_time": "2023-02-04T11:30:30.033Z"
   },
   {
    "duration": 21,
    "start_time": "2023-02-04T11:30:30.045Z"
   },
   {
    "duration": 8,
    "start_time": "2023-02-04T11:30:30.068Z"
   },
   {
    "duration": 249,
    "start_time": "2023-02-04T11:30:30.078Z"
   },
   {
    "duration": 711,
    "start_time": "2023-02-04T11:30:30.329Z"
   },
   {
    "duration": 4,
    "start_time": "2023-02-04T11:30:31.042Z"
   },
   {
    "duration": 72,
    "start_time": "2023-02-04T11:30:31.048Z"
   },
   {
    "duration": 9,
    "start_time": "2023-02-04T11:30:31.123Z"
   },
   {
    "duration": 147,
    "start_time": "2023-02-04T11:30:37.748Z"
   },
   {
    "duration": 5,
    "start_time": "2023-02-04T11:30:41.537Z"
   },
   {
    "duration": 5,
    "start_time": "2023-02-04T11:30:43.708Z"
   },
   {
    "duration": 29033,
    "start_time": "2023-02-04T11:30:53.716Z"
   },
   {
    "duration": 22,
    "start_time": "2023-02-04T11:31:40.568Z"
   },
   {
    "duration": 5461,
    "start_time": "2023-02-04T11:31:52.238Z"
   },
   {
    "duration": 6332,
    "start_time": "2023-02-04T11:32:41.363Z"
   },
   {
    "duration": 111,
    "start_time": "2023-02-04T11:32:51.086Z"
   },
   {
    "duration": 13,
    "start_time": "2023-02-04T11:32:54.350Z"
   },
   {
    "duration": 254,
    "start_time": "2023-02-04T11:32:54.922Z"
   }
  ],
  "kernelspec": {
   "display_name": "Python 3 (ipykernel)",
   "language": "python",
   "name": "python3"
  },
  "language_info": {
   "codemirror_mode": {
    "name": "ipython",
    "version": 3
   },
   "file_extension": ".py",
   "mimetype": "text/x-python",
   "name": "python",
   "nbconvert_exporter": "python",
   "pygments_lexer": "ipython3",
   "version": "3.9.12"
  },
  "toc": {
   "base_numbering": 1,
   "nav_menu": {},
   "number_sections": true,
   "sideBar": true,
   "skip_h1_title": true,
   "title_cell": "Содержание",
   "title_sidebar": "Contents",
   "toc_cell": true,
   "toc_position": {},
   "toc_section_display": true,
   "toc_window_display": true
  }
 },
 "nbformat": 4,
 "nbformat_minor": 2
}
